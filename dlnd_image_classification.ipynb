{
 "cells": [
  {
   "cell_type": "markdown",
   "metadata": {
    "collapsed": true,
    "deletable": true,
    "editable": true
   },
   "source": [
    "# Image Classification\n",
    "In this project, you'll classify images from the [CIFAR-10 dataset](https://www.cs.toronto.edu/~kriz/cifar.html).  The dataset consists of airplanes, dogs, cats, and other objects. You'll preprocess the images, then train a convolutional neural network on all the samples. The images need to be normalized and the labels need to be one-hot encoded.  You'll get to apply what you learned and build a convolutional, max pooling, dropout, and fully connected layers.  At the end, you'll get to see your neural network's predictions on the sample images.\n",
    "## Get the Data\n",
    "Run the following cell to download the [CIFAR-10 dataset for python](https://www.cs.toronto.edu/~kriz/cifar-10-python.tar.gz)."
   ]
  },
  {
   "cell_type": "code",
   "execution_count": 2,
   "metadata": {
    "collapsed": false,
    "deletable": true,
    "editable": true
   },
   "outputs": [
    {
     "name": "stdout",
     "output_type": "stream",
     "text": [
      "All files found!\n"
     ]
    }
   ],
   "source": [
    "from urllib.request import urlretrieve\n",
    "from os.path import isfile, isdir\n",
    "from tqdm import tqdm\n",
    "import problem_unittests as tests\n",
    "import tarfile\n",
    "\n",
    "cifar10_dataset_folder_path = 'cifar-10-batches-py'\n",
    "\n",
    "class DLProgress(tqdm):\n",
    "    last_block = 0\n",
    "    \n",
    "    def hook(self, block_num=1, block_size=1, total_size=None):\n",
    "        self.total = total_size\n",
    "        self.update((block_num - self.last_block) * block_size)\n",
    "        self.last_block = block_num\n",
    "\n",
    "if not isfile('cifar-10-python.tar.gz'):\n",
    "    with DLProgress(unit='B', unit_scale=True, miniters=1, desc='CIFAR-10 Dataset') as pbar:\n",
    "        urlretrieve('https://www.cs.toronto.edu/~kriz/cifar-10-python.tar.gz', 'cifar-10-python.tar.gz', pbar.hook)\n",
    "\n",
    "if not isdir(cifar10_dataset_folder_path):\n",
    "    with tarfile.open('cifar-10-python.tar.gz') as tar:\n",
    "        tar.extractall()\n",
    "        tar.close()\n",
    "        \n",
    "tests.test_folder_path(cifar10_dataset_folder_path)"
   ]
  },
  {
   "cell_type": "markdown",
   "metadata": {
    "deletable": true,
    "editable": true
   },
   "source": [
    "## Explore the Data\n",
    "The dataset is broken into batches to prevent your machine from running out of memory.  The CIFAR-10 dataset consists of 5 batches, named `data_batch_1`, `data_batch_2`, etc.. Each batch contains the labels and images that are one of the following:\n",
    "* airplane\n",
    "* automobile\n",
    "* bird\n",
    "* cat\n",
    "* deer\n",
    "* dog\n",
    "* frog\n",
    "* horse\n",
    "* ship\n",
    "* truck\n",
    "\n",
    "Understanding a dataset is part of making predictions on the data.  Play around with the code cell below by changing the `batch_id` and `sample_id`. The `batch_id` is the id for a batch (1-5). The `sample_id` is the id for a image and label pair in the batch.\n",
    "\n",
    "Ask yourself \"What are all possible labels?\", \"What is the range of values for the image data?\", \"Are the labels in order or random?\".  Answers to questions like these will help you preprocess the data and end up with better predictions."
   ]
  },
  {
   "cell_type": "code",
   "execution_count": 3,
   "metadata": {
    "collapsed": false,
    "deletable": true,
    "editable": true
   },
   "outputs": [
    {
     "name": "stdout",
     "output_type": "stream",
     "text": [
      "\n",
      "Stats of batch 1:\n",
      "Samples: 10000\n",
      "Label Counts: {0: 1005, 1: 974, 2: 1032, 3: 1016, 4: 999, 5: 937, 6: 1030, 7: 1001, 8: 1025, 9: 981}\n",
      "First 20 Labels: [6, 9, 9, 4, 1, 1, 2, 7, 8, 3, 4, 7, 7, 2, 9, 9, 9, 3, 2, 6]\n",
      "\n",
      "Example of Image 205:\n",
      "Image - Min Value: 1 Max Value: 255\n",
      "Image - Shape: (32, 32, 3)\n",
      "Label - Label Id: 9 Name: truck\n"
     ]
    },
    {
     "data": {
      "image/png": "[encoded data removed]",
      "text/plain": [
       "<matplotlib.figure.Figure at 0x21317c02588>"
      ]
     },
     "metadata": {
      "image/png": {
       "height": 250,
       "width": 253
      }
     },
     "output_type": "display_data"
    }
   ],
   "source": [
    "%matplotlib inline\n",
    "%config InlineBackend.figure_format = 'retina'\n",
    "\n",
    "import helper\n",
    "import numpy as np\n",
    "\n",
    "batch_id = 1\n",
    "sample_id = 205\n",
    "helper.display_stats(cifar10_dataset_folder_path, batch_id, sample_id)\n"
   ]
  },
  {
   "cell_type": "markdown",
   "metadata": {
    "deletable": true,
    "editable": true
   },
   "source": [
    "## Implement Preprocess Functions\n",
    "### Normalize\n",
    "In the cell below, implement the `normalize` function to take in image data, `x`, and return it as a normalized Numpy array. The values should be in the range of 0 to 1, inclusive.  The return object should be the same shape as `x`."
   ]
  },
  {
   "cell_type": "code",
   "execution_count": 4,
   "metadata": {
    "collapsed": false,
    "deletable": true,
    "editable": true
   },
   "outputs": [
    {
     "name": "stdout",
     "output_type": "stream",
     "text": [
      "Tests Passed\n"
     ]
    }
   ],
   "source": [
    "def normalize(x):\n",
    "    \"\"\"\n",
    "    Normalize a list of sample image data in the range of 0 to 1\n",
    "    : x: List of image data.  The image shape is (32, 32, 3)\n",
    "    : return: Numpy array of normalize data\n",
    "    \"\"\"\n",
    "    # TODO: Implement Function\n",
    "    x = np.array(x/255)\n",
    "    return x\n",
    "\n",
    "\n",
    "\"\"\"\n",
    "DON'T MODIFY ANYTHING IN THIS CELL THAT IS BELOW THIS LINE\n",
    "\"\"\"\n",
    "tests.test_normalize(normalize)"
   ]
  },
  {
   "cell_type": "markdown",
   "metadata": {
    "deletable": true,
    "editable": true
   },
   "source": [
    "### One-hot encode\n",
    "Just like the previous code cell, you'll be implementing a function for preprocessing.  This time, you'll implement the `one_hot_encode` function. The input, `x`, are a list of labels.  Implement the function to return the list of labels as One-Hot encoded Numpy array.  The possible values for labels are 0 to 9. The one-hot encoding function should return the same encoding for each value between each call to `one_hot_encode`.  Make sure to save the map of encodings outside the function.\n",
    "\n",
    "Hint: Don't reinvent the wheel."
   ]
  },
  {
   "cell_type": "code",
   "execution_count": 22,
   "metadata": {
    "collapsed": false,
    "deletable": true,
    "editable": true
   },
   "outputs": [
    {
     "name": "stdout",
     "output_type": "stream",
     "text": [
      "Tests Passed\n"
     ]
    }
   ],
   "source": [
    "def one_hot_encode(x):\n",
    "    \"\"\"\n",
    "    One hot encode a list of sample labels. Return a one-hot encoded vector for each label.\n",
    "    : x: List of sample Labels\n",
    "    : return: Numpy array of one-hot encoded labels\n",
    "    \"\"\"\n",
    "    # TODO: Implement Function\n",
    "    \n",
    "    return np.eye(10)[x]\n",
    "\n",
    "\n",
    "\"\"\"\n",
    "DON'T MODIFY ANYTHING IN THIS CELL THAT IS BELOW THIS LINE\n",
    "\"\"\"\n",
    "tests.test_one_hot_encode(one_hot_encode)\n"
   ]
  },
  {
   "cell_type": "markdown",
   "metadata": {
    "deletable": true,
    "editable": true
   },
   "source": [
    "### Randomize Data\n",
    "As you saw from exploring the data above, the order of the samples are randomized.  It doesn't hurt to randomize it again, but you don't need to for this dataset."
   ]
  },
  {
   "cell_type": "markdown",
   "metadata": {
    "deletable": true,
    "editable": true
   },
   "source": [
    "## Preprocess all the data and save it\n",
    "Running the code cell below will preprocess all the CIFAR-10 data and save it to file. The code below also uses 10% of the training data for validation."
   ]
  },
  {
   "cell_type": "code",
   "execution_count": 6,
   "metadata": {
    "collapsed": false,
    "deletable": true,
    "editable": true
   },
   "outputs": [],
   "source": [
    "\"\"\"\n",
    "DON'T MODIFY ANYTHING IN THIS CELL\n",
    "\"\"\"\n",
    "# Preprocess Training, Validation, and Testing Data\n",
    "helper.preprocess_and_save_data(cifar10_dataset_folder_path, normalize, one_hot_encode)"
   ]
  },
  {
   "cell_type": "markdown",
   "metadata": {
    "deletable": true,
    "editable": true
   },
   "source": [
    "# Check Point\n",
    "This is your first checkpoint.  If you ever decide to come back to this notebook or have to restart the notebook, you can start from here.  The preprocessed data has been saved to disk."
   ]
  },
  {
   "cell_type": "code",
   "execution_count": 7,
   "metadata": {
    "collapsed": true,
    "deletable": true,
    "editable": true
   },
   "outputs": [],
   "source": [
    "\"\"\"\n",
    "DON'T MODIFY ANYTHING IN THIS CELL\n",
    "\"\"\"\n",
    "import pickle\n",
    "import problem_unittests as tests\n",
    "import helper\n",
    "\n",
    "# Load the Preprocessed Validation data\n",
    "valid_features, valid_labels = pickle.load(open('preprocess_validation.p', mode='rb'))"
   ]
  },
  {
   "cell_type": "markdown",
   "metadata": {
    "deletable": true,
    "editable": true
   },
   "source": [
    "## Build the network\n",
    "For the neural network, you'll build each layer into a function.  Most of the code you've seen has been outside of functions. To test your code more thoroughly, we require that you put each layer in a function.  This allows us to give you better feedback and test for simple mistakes using our unittests before you submit your project.\n",
    "\n",
    ">**Note:** If you're finding it hard to dedicate enough time for this course each week, we've provided a small shortcut to this part of the project. In the next couple of problems, you'll have the option to use classes from the [TensorFlow Layers](https://www.tensorflow.org/api_docs/python/tf/layers) or [TensorFlow Layers (contrib)](https://www.tensorflow.org/api_guides/python/contrib.layers) packages to build each layer, except the layers you build in the \"Convolutional and Max Pooling Layer\" section.  TF Layers is similar to Keras's and TFLearn's abstraction to layers, so it's easy to pickup.\n",
    "\n",
    ">However, if you would like to get the most out of this course, try to solve all the problems _without_ using anything from the TF Layers packages. You **can** still use classes from other packages that happen to have the same name as ones you find in TF Layers! For example, instead of using the TF Layers version of the `conv2d` class, [tf.layers.conv2d](https://www.tensorflow.org/api_docs/python/tf/layers/conv2d), you would want to use the TF Neural Network version of `conv2d`, [tf.nn.conv2d](https://www.tensorflow.org/api_docs/python/tf/nn/conv2d). \n",
    "\n",
    "Let's begin!\n",
    "\n",
    "### Input\n",
    "The neural network needs to read the image data, one-hot encoded labels, and dropout keep probability. Implement the following functions\n",
    "* Implement `neural_net_image_input`\n",
    " * Return a [TF Placeholder](https://www.tensorflow.org/api_docs/python/tf/placeholder)\n",
    " * Set the shape using `image_shape` with batch size set to `None`.\n",
    " * Name the TensorFlow placeholder \"x\" using the TensorFlow `name` parameter in the [TF Placeholder](https://www.tensorflow.org/api_docs/python/tf/placeholder).\n",
    "* Implement `neural_net_label_input`\n",
    " * Return a [TF Placeholder](https://www.tensorflow.org/api_docs/python/tf/placeholder)\n",
    " * Set the shape using `n_classes` with batch size set to `None`.\n",
    " * Name the TensorFlow placeholder \"y\" using the TensorFlow `name` parameter in the [TF Placeholder](https://www.tensorflow.org/api_docs/python/tf/placeholder).\n",
    "* Implement `neural_net_keep_prob_input`\n",
    " * Return a [TF Placeholder](https://www.tensorflow.org/api_docs/python/tf/placeholder) for dropout keep probability.\n",
    " * Name the TensorFlow placeholder \"keep_prob\" using the TensorFlow `name` parameter in the [TF Placeholder](https://www.tensorflow.org/api_docs/python/tf/placeholder).\n",
    "\n",
    "These names will be used at the end of the project to load your saved model.\n",
    "\n",
    "Note: `None` for shapes in TensorFlow allow for a dynamic size."
   ]
  },
  {
   "cell_type": "code",
   "execution_count": 8,
   "metadata": {
    "collapsed": false,
    "deletable": true,
    "editable": true
   },
   "outputs": [
    {
     "name": "stdout",
     "output_type": "stream",
     "text": [
      "Image Input Tests Passed.\n",
      "Label Input Tests Passed.\n",
      "Keep Prob Tests Passed.\n"
     ]
    }
   ],
   "source": [
    "import tensorflow as tf\n",
    "\n",
    "def neural_net_image_input(image_shape):\n",
    "    \"\"\"\n",
    "    Return a Tensor for a batch of image input\n",
    "    : image_shape: Shape of the images\n",
    "    : return: Tensor for image input.\n",
    "    \"\"\"\n",
    "    # TODO: Implement Function\n",
    "    return tf.placeholder(tf.float32, [None, image_shape[0], image_shape[1], image_shape[2]], name=\"x\")\n",
    "\n",
    "\n",
    "def neural_net_label_input(n_classes):\n",
    "    \"\"\"\n",
    "    Return a Tensor for a batch of label input\n",
    "    : n_classes: Number of classes\n",
    "    : return: Tensor for label input.\n",
    "    \"\"\"\n",
    "    # TODO: Implement Function\n",
    "    return tf.placeholder(tf.float32, [None, n_classes], name=\"y\")\n",
    "\n",
    "\n",
    "def neural_net_keep_prob_input():\n",
    "    \"\"\"\n",
    "    Return a Tensor for keep probability\n",
    "    : return: Tensor for keep probability.\n",
    "    \"\"\"\n",
    "    # TODO: Implement Function\n",
    "    return tf.placeholder(tf.float32, name=\"keep_prob\")\n",
    "\n",
    "\n",
    "\"\"\"\n",
    "DON'T MODIFY ANYTHING IN THIS CELL THAT IS BELOW THIS LINE\n",
    "\"\"\"\n",
    "tf.reset_default_graph()\n",
    "tests.test_nn_image_inputs(neural_net_image_input)\n",
    "tests.test_nn_label_inputs(neural_net_label_input)\n",
    "tests.test_nn_keep_prob_inputs(neural_net_keep_prob_input)"
   ]
  },
  {
   "cell_type": "markdown",
   "metadata": {
    "deletable": true,
    "editable": true
   },
   "source": [
    "### Convolution and Max Pooling Layer\n",
    "Convolution layers have a lot of success with images. For this code cell, you should implement the function `conv2d_maxpool` to apply convolution then max pooling:\n",
    "* Create the weight and bias using `conv_ksize`, `conv_num_outputs` and the shape of `x_tensor`.\n",
    "* Apply a convolution to `x_tensor` using weight and `conv_strides`.\n",
    " * We recommend you use same padding, but you're welcome to use any padding.\n",
    "* Add bias\n",
    "* Add a nonlinear activation to the convolution.\n",
    "* Apply Max Pooling using `pool_ksize` and `pool_strides`.\n",
    " * We recommend you use same padding, but you're welcome to use any padding.\n",
    "\n",
    "**Note:** You **can't** use [TensorFlow Layers](https://www.tensorflow.org/api_docs/python/tf/layers) or [TensorFlow Layers (contrib)](https://www.tensorflow.org/api_guides/python/contrib.layers) for **this** layer, but you can still use TensorFlow's [Neural Network](https://www.tensorflow.org/api_docs/python/tf/nn) package. You may still use the shortcut option for all the **other** layers."
   ]
  },
  {
   "cell_type": "code",
   "execution_count": 9,
   "metadata": {
    "collapsed": false,
    "deletable": true,
    "editable": true
   },
   "outputs": [
    {
     "name": "stdout",
     "output_type": "stream",
     "text": [
      "Tests Passed\n"
     ]
    }
   ],
   "source": [
    "def conv2d_maxpool(x_tensor, conv_num_outputs, conv_ksize, conv_strides, pool_ksize, pool_strides):\n",
    "    \"\"\"\n",
    "    Apply convolution then max pooling to x_tensor\n",
    "    :param x_tensor: TensorFlow Tensor\n",
    "    :param conv_num_outputs: Number of outputs for the convolutional layer\n",
    "    :param conv_ksize: kernal size 2-D Tuple for the convolutional layer\n",
    "    :param conv_strides: Stride 2-D Tuple for convolution\n",
    "    :param pool_ksize: kernal size 2-D Tuple for pool\n",
    "    :param pool_strides: Stride 2-D Tuple for pool\n",
    "    : return: A tensor that represents convolution and max pooling of x_tensor\n",
    "    \"\"\"\n",
    "    # TODO: Implement Function\n",
    "    weights = tf.Variable(tf.truncated_normal([conv_ksize[0],conv_ksize[1], x_tensor.get_shape()[3].value, conv_num_outputs], mean=0, stddev=0.01));\n",
    "    bias = tf.Variable(tf.zeros([conv_num_outputs]))\n",
    "    \n",
    "    conv2d = tf.nn.conv2d(x_tensor, weights, strides=[1, conv_strides[0], conv_strides[1], 1], padding='SAME')\n",
    "    layer1 = tf.nn.bias_add(conv2d, bias)\n",
    "    layer1 = tf.nn.relu(layer1)\n",
    "    \n",
    "    layer2 = tf.nn.max_pool(layer1, ksize=[1, pool_ksize[0], pool_ksize[1], 1], strides=[1, pool_strides[0],pool_strides[1], 1], padding='SAME')\n",
    "    return layer2\n",
    "\n",
    "\n",
    "\"\"\"\n",
    "DON'T MODIFY ANYTHING IN THIS CELL THAT IS BELOW THIS LINE\n",
    "\"\"\"\n",
    "tests.test_con_pool(conv2d_maxpool)"
   ]
  },
  {
   "cell_type": "markdown",
   "metadata": {
    "deletable": true,
    "editable": true
   },
   "source": [
    "### Flatten Layer\n",
    "Implement the `flatten` function to change the dimension of `x_tensor` from a 4-D tensor to a 2-D tensor.  The output should be the shape (*Batch Size*, *Flattened Image Size*). Shortcut option: you can use classes from the [TensorFlow Layers](https://www.tensorflow.org/api_docs/python/tf/layers) or [TensorFlow Layers (contrib)](https://www.tensorflow.org/api_guides/python/contrib.layers) packages for this layer. For more of a challenge, only use other TensorFlow packages."
   ]
  },
  {
   "cell_type": "code",
   "execution_count": 10,
   "metadata": {
    "collapsed": false,
    "deletable": true,
    "editable": true,
    "scrolled": true
   },
   "outputs": [
    {
     "name": "stdout",
     "output_type": "stream",
     "text": [
      "Tests Passed\n"
     ]
    }
   ],
   "source": [
    "def flatten(x_tensor):\n",
    "    \"\"\"\n",
    "    Flatten x_tensor to (Batch Size, Flattened Image Size)\n",
    "    : x_tensor: A tensor of size (Batch Size, ...), where ... are the image dimensions.\n",
    "    : return: A tensor of size (Batch Size, Flattened Image Size).\n",
    "    \"\"\"\n",
    "    return tf.reshape(x_tensor, [-1, x_tensor.shape[1].value * x_tensor.shape[2].value* x_tensor.shape[3].value])\n",
    "\n",
    "\n",
    "\"\"\"\n",
    "DON'T MODIFY ANYTHING IN THIS CELL THAT IS BELOW THIS LINE\n",
    "\"\"\"\n",
    "tests.test_flatten(flatten)"
   ]
  },
  {
   "cell_type": "markdown",
   "metadata": {
    "deletable": true,
    "editable": true
   },
   "source": [
    "### Fully-Connected Layer\n",
    "Implement the `fully_conn` function to apply a fully connected layer to `x_tensor` with the shape (*Batch Size*, *num_outputs*). Shortcut option: you can use classes from the [TensorFlow Layers](https://www.tensorflow.org/api_docs/python/tf/layers) or [TensorFlow Layers (contrib)](https://www.tensorflow.org/api_guides/python/contrib.layers) packages for this layer. For more of a challenge, only use other TensorFlow packages."
   ]
  },
  {
   "cell_type": "code",
   "execution_count": 24,
   "metadata": {
    "collapsed": false,
    "deletable": true,
    "editable": true
   },
   "outputs": [
    {
     "name": "stdout",
     "output_type": "stream",
     "text": [
      "Tests Passed\n"
     ]
    }
   ],
   "source": [
    "def fully_conn(x_tensor, num_outputs):\n",
    "    \"\"\"\n",
    "    Apply a fully connected layer to x_tensor using weight and bias\n",
    "    : x_tensor: A 2-D tensor where the first dimension is batch size.\n",
    "    : num_outputs: The number of output that the new tensor should be.\n",
    "    : return: A 2-D tensor where the second dimension is num_outputs.\n",
    "    \"\"\"\n",
    "    # TODO: Implement Function\n",
    "    y_shape = x_tensor.get_shape().as_list()[-1]\n",
    "    weights = tf.Variable(tf.truncated_normal(shape=[y_shape, num_outputs], mean=0.0, stddev=0.01))\n",
    "    bias = tf.Variable(tf.zeros([num_outputs]))\n",
    "    \n",
    "    layer = tf.matmul(x_tensor, weights) + bias\n",
    "    layer = tf.nn.relu(layer)\n",
    "    return layer\n",
    "\n",
    "\n",
    "\"\"\"\n",
    "DON'T MODIFY ANYTHING IN THIS CELL THAT IS BELOW THIS LINE\n",
    "\"\"\"\n",
    "tests.test_fully_conn(fully_conn)"
   ]
  },
  {
   "cell_type": "markdown",
   "metadata": {
    "deletable": true,
    "editable": true
   },
   "source": [
    "### Output Layer\n",
    "Implement the `output` function to apply a fully connected layer to `x_tensor` with the shape (*Batch Size*, *num_outputs*). Shortcut option: you can use classes from the [TensorFlow Layers](https://www.tensorflow.org/api_docs/python/tf/layers) or [TensorFlow Layers (contrib)](https://www.tensorflow.org/api_guides/python/contrib.layers) packages for this layer. For more of a challenge, only use other TensorFlow packages.\n",
    "\n",
    "**Note:** Activation, softmax, or cross entropy should **not** be applied to this."
   ]
  },
  {
   "cell_type": "code",
   "execution_count": 25,
   "metadata": {
    "collapsed": false,
    "deletable": true,
    "editable": true
   },
   "outputs": [
    {
     "name": "stdout",
     "output_type": "stream",
     "text": [
      "Tests Passed\n"
     ]
    }
   ],
   "source": [
    "def output(x_tensor, num_outputs):\n",
    "    \"\"\"\n",
    "    Apply a output layer to x_tensor using weight and bias\n",
    "    : x_tensor: A 2-D tensor where the first dimension is batch size.\n",
    "    : num_outputs: The number of output that the new tensor should be.\n",
    "    : return: A 2-D tensor where the second dimension is num_outputs.\n",
    "    \"\"\"\n",
    "    # TODO: Implement Function\n",
    "    y_shape = x_tensor.get_shape().as_list()[-1]\n",
    "    weights = tf.Variable(tf.truncated_normal(shape=[y_shape,num_outputs], mean=0.0, stddev=0.1))\n",
    "    bias = tf.Variable(tf.zeros([num_outputs]))\n",
    "    layer = tf.matmul(x_tensor, weights) + bias\n",
    "    return layer\n",
    "\n",
    "\n",
    "\"\"\"\n",
    "DON'T MODIFY ANYTHING IN THIS CELL THAT IS BELOW THIS LINE\n",
    "\"\"\"\n",
    "tests.test_output(output)"
   ]
  },
  {
   "cell_type": "markdown",
   "metadata": {
    "deletable": true,
    "editable": true
   },
   "source": [
    "### Create Convolutional Model\n",
    "Implement the function `conv_net` to create a convolutional neural network model. The function takes in a batch of images, `x`, and outputs logits.  Use the layers you created above to create this model:\n",
    "\n",
    "* Apply 1, 2, or 3 Convolution and Max Pool layers\n",
    "* Apply a Flatten Layer\n",
    "* Apply 1, 2, or 3 Fully Connected Layers\n",
    "* Apply an Output Layer\n",
    "* Return the output\n",
    "* Apply [TensorFlow's Dropout](https://www.tensorflow.org/api_docs/python/tf/nn/dropout) to one or more layers in the model using `keep_prob`. "
   ]
  },
  {
   "cell_type": "code",
   "execution_count": 26,
   "metadata": {
    "collapsed": false,
    "deletable": true,
    "editable": true
   },
   "outputs": [
    {
     "name": "stdout",
     "output_type": "stream",
     "text": [
      "Neural Network Built!\n"
     ]
    }
   ],
   "source": [
    "def conv_net(x, keep_prob):\n",
    "    \"\"\"\n",
    "    Create a convolutional neural network model\n",
    "    : x: Placeholder tensor that holds image data.\n",
    "    : keep_prob: Placeholder tensor that hold dropout keep probability.\n",
    "    : return: Tensor that represents logits\n",
    "    \"\"\"\n",
    "    # TODO: Apply 1, 2, or 3 Convolution and Max Pool layers\n",
    "    #    Play around with different number of outputs, kernel size and stride\n",
    "    # Function Definition from Above:\n",
    "    #    conv2d_maxpool(x_tensor, conv_num_outputs, conv_ksize, conv_strides, pool_ksize, pool_strides)\n",
    "    x_tensor = x\n",
    "    conv_num_outputs = 16\n",
    "    conv_ksize = (5,5)\n",
    "    conv_strides = (1,1)\n",
    "    pool_ksize = (2,2)\n",
    "    pool_strides = (2,2)\n",
    "    conv1 = conv2d_maxpool(x_tensor, conv_num_outputs, conv_ksize, conv_strides, pool_ksize, pool_strides)\n",
    "    \n",
    "    conv_num_outputs = 32\n",
    "    conv2 = conv2d_maxpool(conv1, conv_num_outputs, conv_ksize, conv_strides, pool_ksize, pool_strides)\n",
    "    \n",
    "    conv_num_outputs = 64\n",
    "    conv3 = conv2d_maxpool(conv2, conv_num_outputs, conv_ksize, conv_strides, pool_ksize, pool_strides)\n",
    "    \n",
    "    conv_out = conv3\n",
    "\n",
    "    # TODO: Apply a Flatten Layer\n",
    "    # Function Definition from Above:\n",
    "    #   flatten(x_tensor)\n",
    "    conv_out_flat = flatten(conv_out)\n",
    "    \n",
    "    # TODO: Apply 1, 2, or 3 Fully Connected Layers\n",
    "    #    Play around with different number of outputs\n",
    "    # Function Definition from Above:\n",
    "    #   fully_conn(x_tensor, num_outputs)\n",
    "    conv_out_flat_f = fully_conn(conv_out_flat, 64)\n",
    "    conv_out_flat_fl = tf.nn.relu(conv_out_flat_f)\n",
    "    conv_out_flat_fld = tf.nn.dropout(conv_out_flat_fl, keep_prob)\n",
    "\n",
    "    conv_out_flat_fld_f = fully_conn(conv_out_flat_fld, 32)\n",
    "    conv_out_flat_fld_fl = tf.nn.relu(conv_out_flat_fld_f)\n",
    "    conv_out_flat_fld_fld = tf.nn.dropout(conv_out_flat_fld_fl, keep_prob)\n",
    "    \n",
    "    \n",
    "    # TODO: Apply an Output Layer\n",
    "    #    Set this to the number of classes\n",
    "    # Function Definition from Above:\n",
    "    #   output(x_tensor, num_outputs)\n",
    "    num_outputs = 10\n",
    "    outval = output(conv_out_flat_fld_fld, num_outputs)\n",
    "    \n",
    "    \n",
    "    \n",
    "    # TODO: return output\n",
    "    return outval\n",
    "\n",
    "\n",
    "\n",
    "\"\"\"\n",
    "DON'T MODIFY ANYTHING IN THIS CELL THAT IS BELOW THIS LINE\n",
    "\"\"\"\n",
    "\n",
    "##############################\n",
    "## Build the Neural Network ##\n",
    "##############################\n",
    "\n",
    "# Remove previous weights, bias, inputs, etc..\n",
    "tf.reset_default_graph()\n",
    "\n",
    "# Inputs\n",
    "x = neural_net_image_input((32, 32, 3))\n",
    "y = neural_net_label_input(10)\n",
    "keep_prob = neural_net_keep_prob_input()\n",
    "\n",
    "# Model\n",
    "logits = conv_net(x, keep_prob)\n",
    "\n",
    "# Name logits Tensor, so that is can be loaded from disk after training\n",
    "logits = tf.identity(logits, name='logits')\n",
    "\n",
    "# Loss and Optimizer\n",
    "cost = tf.reduce_mean(tf.nn.softmax_cross_entropy_with_logits(logits=logits, labels=y))\n",
    "optimizer = tf.train.AdamOptimizer().minimize(cost)\n",
    "\n",
    "# Accuracy\n",
    "correct_pred = tf.equal(tf.argmax(logits, 1), tf.argmax(y, 1))\n",
    "accuracy = tf.reduce_mean(tf.cast(correct_pred, tf.float32), name='accuracy')\n",
    "\n",
    "tests.test_conv_net(conv_net)"
   ]
  },
  {
   "cell_type": "markdown",
   "metadata": {
    "deletable": true,
    "editable": true
   },
   "source": [
    "## Train the Neural Network\n",
    "### Single Optimization\n",
    "Implement the function `train_neural_network` to do a single optimization.  The optimization should use `optimizer` to optimize in `session` with a `feed_dict` of the following:\n",
    "* `x` for image input\n",
    "* `y` for labels\n",
    "* `keep_prob` for keep probability for dropout\n",
    "\n",
    "This function will be called for each batch, so `tf.global_variables_initializer()` has already been called.\n",
    "\n",
    "Note: Nothing needs to be returned. This function is only optimizing the neural network."
   ]
  },
  {
   "cell_type": "code",
   "execution_count": 27,
   "metadata": {
    "collapsed": false,
    "deletable": true,
    "editable": true
   },
   "outputs": [
    {
     "name": "stdout",
     "output_type": "stream",
     "text": [
      "Tests Passed\n"
     ]
    }
   ],
   "source": [
    "def train_neural_network(session, optimizer, keep_probability, feature_batch, label_batch):\n",
    "    \"\"\"\n",
    "    Optimize the session on a batch of images and labels\n",
    "    : session: Current TensorFlow session\n",
    "    : optimizer: TensorFlow optimizer function\n",
    "    : keep_probability: keep probability\n",
    "    : feature_batch: Batch of Numpy image data\n",
    "    : label_batch: Batch of Numpy label data\n",
    "    \"\"\"\n",
    "    # TODO: Implement Function\n",
    "    session.run(optimizer,feed_dict={x:feature_batch, y:label_batch, keep_prob:keep_probability})\n",
    "\n",
    "\n",
    "\"\"\"\n",
    "DON'T MODIFY ANYTHING IN THIS CELL THAT IS BELOW THIS LINE\n",
    "\"\"\"\n",
    "tests.test_train_nn(train_neural_network)"
   ]
  },
  {
   "cell_type": "markdown",
   "metadata": {
    "deletable": true,
    "editable": true
   },
   "source": [
    "### Show Stats\n",
    "Implement the function `print_stats` to print loss and validation accuracy.  Use the global variables `valid_features` and `valid_labels` to calculate validation accuracy.  Use a keep probability of `1.0` to calculate the loss and validation accuracy."
   ]
  },
  {
   "cell_type": "code",
   "execution_count": 28,
   "metadata": {
    "collapsed": false,
    "deletable": true,
    "editable": true
   },
   "outputs": [],
   "source": [
    "def print_stats(session, feature_batch, label_batch, cost, accuracy):\n",
    "    \"\"\"\n",
    "    Print information about loss and validation accuracy\n",
    "    : session: Current TensorFlow session\n",
    "    : feature_batch: Batch of Numpy image data\n",
    "    : label_batch: Batch of Numpy label data\n",
    "    : cost: TensorFlow cost function\n",
    "    : accuracy: TensorFlow accuracy function\n",
    "    \"\"\"\n",
    "    # TODO: Implement Function\n",
    "    loss = session.run(cost, feed_dict={x: feature_batch, y: label_batch, keep_prob: 1.})\n",
    "    valid_acc = session.run(accuracy, feed_dict={x: valid_features, y: valid_labels, keep_prob: 1.})\n",
    "\n",
    "    print('Loss: {:>10.4f} Validation Accuracy: {:.6f}'.format(loss, valid_acc))"
   ]
  },
  {
   "cell_type": "markdown",
   "metadata": {
    "deletable": true,
    "editable": true
   },
   "source": [
    "### Hyperparameters\n",
    "Tune the following parameters:\n",
    "* Set `epochs` to the number of iterations until the network stops learning or start overfitting\n",
    "* Set `batch_size` to the highest number that your machine has memory for.  Most people set them to common sizes of memory:\n",
    " * 64\n",
    " * 128\n",
    " * 256\n",
    " * ...\n",
    "* Set `keep_probability` to the probability of keeping a node using dropout"
   ]
  },
  {
   "cell_type": "code",
   "execution_count": 32,
   "metadata": {
    "collapsed": true,
    "deletable": true,
    "editable": true
   },
   "outputs": [],
   "source": [
    "# TODO: Tune Parameters\n",
    "epochs = 50\n",
    "batch_size = 128\n",
    "keep_probability = 0.5"
   ]
  },
  {
   "cell_type": "markdown",
   "metadata": {
    "deletable": true,
    "editable": true
   },
   "source": [
    "### Train on a Single CIFAR-10 Batch\n",
    "Instead of training the neural network on all the CIFAR-10 batches of data, let's use a single batch. This should save time while you iterate on the model to get a better accuracy.  Once the final validation accuracy is 50% or greater, run the model on all the data in the next section."
   ]
  },
  {
   "cell_type": "code",
   "execution_count": 33,
   "metadata": {
    "collapsed": false,
    "deletable": true,
    "editable": true
   },
   "outputs": [
    {
     "name": "stdout",
     "output_type": "stream",
     "text": [
      "Checking the Training on a Single Batch...\n",
      "Epoch  1, CIFAR-10 Batch 1:  Loss:     2.2440 Validation Accuracy: 0.141800\n",
      "Epoch  2, CIFAR-10 Batch 1:  Loss:     2.2279 Validation Accuracy: 0.209600\n",
      "Epoch  3, CIFAR-10 Batch 1:  Loss:     2.1722 Validation Accuracy: 0.208400\n",
      "Epoch  4, CIFAR-10 Batch 1:  Loss:     2.0633 Validation Accuracy: 0.286600\n",
      "Epoch  5, CIFAR-10 Batch 1:  Loss:     2.0589 Validation Accuracy: 0.306800\n",
      "Epoch  6, CIFAR-10 Batch 1:  Loss:     1.9588 Validation Accuracy: 0.325800\n",
      "Epoch  7, CIFAR-10 Batch 1:  Loss:     1.8602 Validation Accuracy: 0.351400\n",
      "Epoch  8, CIFAR-10 Batch 1:  Loss:     1.8287 Validation Accuracy: 0.346800\n",
      "Epoch  9, CIFAR-10 Batch 1:  Loss:     1.8589 Validation Accuracy: 0.364600\n",
      "Epoch 10, CIFAR-10 Batch 1:  Loss:     1.7700 Validation Accuracy: 0.352200\n",
      "Epoch 11, CIFAR-10 Batch 1:  Loss:     1.7015 Validation Accuracy: 0.383600\n",
      "Epoch 12, CIFAR-10 Batch 1:  Loss:     1.6837 Validation Accuracy: 0.381400\n",
      "Epoch 13, CIFAR-10 Batch 1:  Loss:     1.6323 Validation Accuracy: 0.404800\n",
      "Epoch 14, CIFAR-10 Batch 1:  Loss:     1.6263 Validation Accuracy: 0.388000\n",
      "Epoch 15, CIFAR-10 Batch 1:  Loss:     1.5622 Validation Accuracy: 0.403600\n",
      "Epoch 16, CIFAR-10 Batch 1:  Loss:     1.5365 Validation Accuracy: 0.423000\n",
      "Epoch 17, CIFAR-10 Batch 1:  Loss:     1.4821 Validation Accuracy: 0.416200\n",
      "Epoch 18, CIFAR-10 Batch 1:  Loss:     1.4558 Validation Accuracy: 0.416400\n",
      "Epoch 19, CIFAR-10 Batch 1:  Loss:     1.4185 Validation Accuracy: 0.447800\n",
      "Epoch 20, CIFAR-10 Batch 1:  Loss:     1.3629 Validation Accuracy: 0.435000\n",
      "Epoch 21, CIFAR-10 Batch 1:  Loss:     1.3782 Validation Accuracy: 0.441200\n",
      "Epoch 22, CIFAR-10 Batch 1:  Loss:     1.3651 Validation Accuracy: 0.444800\n",
      "Epoch 23, CIFAR-10 Batch 1:  Loss:     1.2925 Validation Accuracy: 0.467200\n",
      "Epoch 24, CIFAR-10 Batch 1:  Loss:     1.2085 Validation Accuracy: 0.468200\n",
      "Epoch 25, CIFAR-10 Batch 1:  Loss:     1.2741 Validation Accuracy: 0.464400\n",
      "Epoch 26, CIFAR-10 Batch 1:  Loss:     1.1737 Validation Accuracy: 0.477800\n",
      "Epoch 27, CIFAR-10 Batch 1:  Loss:     1.1369 Validation Accuracy: 0.479200\n",
      "Epoch 28, CIFAR-10 Batch 1:  Loss:     1.1071 Validation Accuracy: 0.482000\n",
      "Epoch 29, CIFAR-10 Batch 1:  Loss:     1.0994 Validation Accuracy: 0.480800\n",
      "Epoch 30, CIFAR-10 Batch 1:  Loss:     1.0672 Validation Accuracy: 0.482200\n",
      "Epoch 31, CIFAR-10 Batch 1:  Loss:     1.0708 Validation Accuracy: 0.477000\n",
      "Epoch 32, CIFAR-10 Batch 1:  Loss:     0.9981 Validation Accuracy: 0.488600\n",
      "Epoch 33, CIFAR-10 Batch 1:  Loss:     0.9949 Validation Accuracy: 0.476200\n",
      "Epoch 34, CIFAR-10 Batch 1:  Loss:     0.9422 Validation Accuracy: 0.481800\n",
      "Epoch 35, CIFAR-10 Batch 1:  Loss:     0.9264 Validation Accuracy: 0.486400\n",
      "Epoch 36, CIFAR-10 Batch 1:  Loss:     0.8792 Validation Accuracy: 0.505200\n",
      "Epoch 37, CIFAR-10 Batch 1:  Loss:     0.8760 Validation Accuracy: 0.510000\n",
      "Epoch 38, CIFAR-10 Batch 1:  Loss:     0.8709 Validation Accuracy: 0.513800\n",
      "Epoch 39, CIFAR-10 Batch 1:  Loss:     0.8522 Validation Accuracy: 0.501800\n",
      "Epoch 40, CIFAR-10 Batch 1:  Loss:     0.8390 Validation Accuracy: 0.500800\n",
      "Epoch 41, CIFAR-10 Batch 1:  Loss:     0.7813 Validation Accuracy: 0.503800\n",
      "Epoch 42, CIFAR-10 Batch 1:  Loss:     0.7966 Validation Accuracy: 0.503400\n",
      "Epoch 43, CIFAR-10 Batch 1:  Loss:     0.7154 Validation Accuracy: 0.518200\n",
      "Epoch 44, CIFAR-10 Batch 1:  Loss:     0.6963 Validation Accuracy: 0.517000\n",
      "Epoch 45, CIFAR-10 Batch 1:  Loss:     0.7029 Validation Accuracy: 0.513800\n",
      "Epoch 46, CIFAR-10 Batch 1:  Loss:     0.6740 Validation Accuracy: 0.517800\n",
      "Epoch 47, CIFAR-10 Batch 1:  Loss:     0.6700 Validation Accuracy: 0.517400\n",
      "Epoch 48, CIFAR-10 Batch 1:  Loss:     0.6576 Validation Accuracy: 0.512800\n",
      "Epoch 49, CIFAR-10 Batch 1:  Loss:     0.6337 Validation Accuracy: 0.520400\n",
      "Epoch 50, CIFAR-10 Batch 1:  Loss:     0.6170 Validation Accuracy: 0.523400\n"
     ]
    }
   ],
   "source": [
    "\"\"\"\n",
    "DON'T MODIFY ANYTHING IN THIS CELL\n",
    "\"\"\"\n",
    "print('Checking the Training on a Single Batch...')\n",
    "with tf.Session() as sess:\n",
    "    # Initializing the variables\n",
    "    sess.run(tf.global_variables_initializer())\n",
    "    \n",
    "    # Training cycle\n",
    "    for epoch in range(epochs):\n",
    "        batch_i = 1\n",
    "        for batch_features, batch_labels in helper.load_preprocess_training_batch(batch_i, batch_size):\n",
    "            train_neural_network(sess, optimizer, keep_probability, batch_features, batch_labels)\n",
    "        print('Epoch {:>2}, CIFAR-10 Batch {}:  '.format(epoch + 1, batch_i), end='')\n",
    "        print_stats(sess, batch_features, batch_labels, cost, accuracy)"
   ]
  },
  {
   "cell_type": "markdown",
   "metadata": {
    "deletable": true,
    "editable": true
   },
   "source": [
    "### Fully Train the Model\n",
    "Now that you got a good accuracy with a single CIFAR-10 batch, try it with all five batches."
   ]
  },
  {
   "cell_type": "code",
   "execution_count": 34,
   "metadata": {
    "collapsed": false,
    "deletable": true,
    "editable": true
   },
   "outputs": [
    {
     "name": "stdout",
     "output_type": "stream",
     "text": [
      "Training...\n",
      "Epoch  1, CIFAR-10 Batch 1:  Loss:     2.2997 Validation Accuracy: 0.103800\n",
      "Epoch  1, CIFAR-10 Batch 2:  Loss:     2.1541 Validation Accuracy: 0.203200\n",
      "Epoch  1, CIFAR-10 Batch 3:  Loss:     1.9128 Validation Accuracy: 0.261200\n",
      "Epoch  1, CIFAR-10 Batch 4:  Loss:     1.9492 Validation Accuracy: 0.275000\n",
      "Epoch  1, CIFAR-10 Batch 5:  Loss:     1.9860 Validation Accuracy: 0.278800\n",
      "Epoch  2, CIFAR-10 Batch 1:  Loss:     2.1368 Validation Accuracy: 0.308400\n",
      "Epoch  2, CIFAR-10 Batch 2:  Loss:     1.9689 Validation Accuracy: 0.326200\n",
      "Epoch  2, CIFAR-10 Batch 3:  Loss:     1.6881 Validation Accuracy: 0.339200\n",
      "Epoch  2, CIFAR-10 Batch 4:  Loss:     1.7953 Validation Accuracy: 0.326800\n",
      "Epoch  2, CIFAR-10 Batch 5:  Loss:     1.8104 Validation Accuracy: 0.343000\n",
      "Epoch  3, CIFAR-10 Batch 1:  Loss:     2.0303 Validation Accuracy: 0.359400\n",
      "Epoch  3, CIFAR-10 Batch 2:  Loss:     1.8995 Validation Accuracy: 0.368400\n",
      "Epoch  3, CIFAR-10 Batch 3:  Loss:     1.5305 Validation Accuracy: 0.369000\n",
      "Epoch  3, CIFAR-10 Batch 4:  Loss:     1.7089 Validation Accuracy: 0.378600\n",
      "Epoch  3, CIFAR-10 Batch 5:  Loss:     1.7853 Validation Accuracy: 0.379800\n",
      "Epoch  4, CIFAR-10 Batch 1:  Loss:     1.9252 Validation Accuracy: 0.380800\n",
      "Epoch  4, CIFAR-10 Batch 2:  Loss:     1.7737 Validation Accuracy: 0.416000\n",
      "Epoch  4, CIFAR-10 Batch 3:  Loss:     1.4471 Validation Accuracy: 0.401200\n",
      "Epoch  4, CIFAR-10 Batch 4:  Loss:     1.7156 Validation Accuracy: 0.406800\n",
      "Epoch  4, CIFAR-10 Batch 5:  Loss:     1.7468 Validation Accuracy: 0.426200\n",
      "Epoch  5, CIFAR-10 Batch 1:  Loss:     1.8250 Validation Accuracy: 0.416200\n",
      "Epoch  5, CIFAR-10 Batch 2:  Loss:     1.6578 Validation Accuracy: 0.445000\n",
      "Epoch  5, CIFAR-10 Batch 3:  Loss:     1.4728 Validation Accuracy: 0.423600\n",
      "Epoch  5, CIFAR-10 Batch 4:  Loss:     1.5718 Validation Accuracy: 0.458400\n",
      "Epoch  5, CIFAR-10 Batch 5:  Loss:     1.6854 Validation Accuracy: 0.452200\n",
      "Epoch  6, CIFAR-10 Batch 1:  Loss:     1.7203 Validation Accuracy: 0.447000\n",
      "Epoch  6, CIFAR-10 Batch 2:  Loss:     1.5802 Validation Accuracy: 0.472600\n",
      "Epoch  6, CIFAR-10 Batch 3:  Loss:     1.3533 Validation Accuracy: 0.463800\n",
      "Epoch  6, CIFAR-10 Batch 4:  Loss:     1.4681 Validation Accuracy: 0.480400\n",
      "Epoch  6, CIFAR-10 Batch 5:  Loss:     1.6081 Validation Accuracy: 0.468000\n",
      "Epoch  7, CIFAR-10 Batch 1:  Loss:     1.5937 Validation Accuracy: 0.489000\n",
      "Epoch  7, CIFAR-10 Batch 2:  Loss:     1.4578 Validation Accuracy: 0.496400\n",
      "Epoch  7, CIFAR-10 Batch 3:  Loss:     1.2573 Validation Accuracy: 0.490600\n",
      "Epoch  7, CIFAR-10 Batch 4:  Loss:     1.4174 Validation Accuracy: 0.502200\n",
      "Epoch  7, CIFAR-10 Batch 5:  Loss:     1.4986 Validation Accuracy: 0.495200\n",
      "Epoch  8, CIFAR-10 Batch 1:  Loss:     1.5224 Validation Accuracy: 0.498800\n",
      "Epoch  8, CIFAR-10 Batch 2:  Loss:     1.4240 Validation Accuracy: 0.514000\n",
      "Epoch  8, CIFAR-10 Batch 3:  Loss:     1.1586 Validation Accuracy: 0.504000\n",
      "Epoch  8, CIFAR-10 Batch 4:  Loss:     1.3968 Validation Accuracy: 0.518200\n",
      "Epoch  8, CIFAR-10 Batch 5:  Loss:     1.4256 Validation Accuracy: 0.510600\n",
      "Epoch  9, CIFAR-10 Batch 1:  Loss:     1.4419 Validation Accuracy: 0.527600\n",
      "Epoch  9, CIFAR-10 Batch 2:  Loss:     1.3536 Validation Accuracy: 0.522000\n",
      "Epoch  9, CIFAR-10 Batch 3:  Loss:     1.0850 Validation Accuracy: 0.522000\n",
      "Epoch  9, CIFAR-10 Batch 4:  Loss:     1.3241 Validation Accuracy: 0.533600\n",
      "Epoch  9, CIFAR-10 Batch 5:  Loss:     1.3325 Validation Accuracy: 0.532200\n",
      "Epoch 10, CIFAR-10 Batch 1:  Loss:     1.3107 Validation Accuracy: 0.541600\n",
      "Epoch 10, CIFAR-10 Batch 2:  Loss:     1.3538 Validation Accuracy: 0.543400\n",
      "Epoch 10, CIFAR-10 Batch 3:  Loss:     1.0599 Validation Accuracy: 0.534200\n",
      "Epoch 10, CIFAR-10 Batch 4:  Loss:     1.2984 Validation Accuracy: 0.549400\n",
      "Epoch 10, CIFAR-10 Batch 5:  Loss:     1.2522 Validation Accuracy: 0.540400\n",
      "Epoch 11, CIFAR-10 Batch 1:  Loss:     1.2688 Validation Accuracy: 0.554600\n",
      "Epoch 11, CIFAR-10 Batch 2:  Loss:     1.2771 Validation Accuracy: 0.556400\n",
      "Epoch 11, CIFAR-10 Batch 3:  Loss:     1.0222 Validation Accuracy: 0.543800\n",
      "Epoch 11, CIFAR-10 Batch 4:  Loss:     1.2553 Validation Accuracy: 0.562000\n",
      "Epoch 11, CIFAR-10 Batch 5:  Loss:     1.1550 Validation Accuracy: 0.557400\n",
      "Epoch 12, CIFAR-10 Batch 1:  Loss:     1.1778 Validation Accuracy: 0.567400\n",
      "Epoch 12, CIFAR-10 Batch 2:  Loss:     1.1691 Validation Accuracy: 0.567800\n",
      "Epoch 12, CIFAR-10 Batch 3:  Loss:     1.0281 Validation Accuracy: 0.538000\n",
      "Epoch 12, CIFAR-10 Batch 4:  Loss:     1.1633 Validation Accuracy: 0.566000\n",
      "Epoch 12, CIFAR-10 Batch 5:  Loss:     1.1293 Validation Accuracy: 0.561600\n",
      "Epoch 13, CIFAR-10 Batch 1:  Loss:     1.1345 Validation Accuracy: 0.565200\n",
      "Epoch 13, CIFAR-10 Batch 2:  Loss:     1.1495 Validation Accuracy: 0.564400\n",
      "Epoch 13, CIFAR-10 Batch 3:  Loss:     0.9881 Validation Accuracy: 0.558200\n",
      "Epoch 13, CIFAR-10 Batch 4:  Loss:     1.1935 Validation Accuracy: 0.575400\n",
      "Epoch 13, CIFAR-10 Batch 5:  Loss:     1.0562 Validation Accuracy: 0.574800\n",
      "Epoch 14, CIFAR-10 Batch 1:  Loss:     1.0352 Validation Accuracy: 0.561400\n",
      "Epoch 14, CIFAR-10 Batch 2:  Loss:     1.1505 Validation Accuracy: 0.576200\n",
      "Epoch 14, CIFAR-10 Batch 3:  Loss:     0.8998 Validation Accuracy: 0.577400\n",
      "Epoch 14, CIFAR-10 Batch 4:  Loss:     1.1678 Validation Accuracy: 0.594000\n",
      "Epoch 14, CIFAR-10 Batch 5:  Loss:     1.0075 Validation Accuracy: 0.579400\n",
      "Epoch 15, CIFAR-10 Batch 1:  Loss:     1.0237 Validation Accuracy: 0.560800\n",
      "Epoch 15, CIFAR-10 Batch 2:  Loss:     1.0459 Validation Accuracy: 0.579800\n",
      "Epoch 15, CIFAR-10 Batch 3:  Loss:     0.9168 Validation Accuracy: 0.570000\n",
      "Epoch 15, CIFAR-10 Batch 4:  Loss:     1.0461 Validation Accuracy: 0.597000\n",
      "Epoch 15, CIFAR-10 Batch 5:  Loss:     0.9662 Validation Accuracy: 0.568000\n",
      "Epoch 16, CIFAR-10 Batch 1:  Loss:     1.0377 Validation Accuracy: 0.562000\n",
      "Epoch 16, CIFAR-10 Batch 2:  Loss:     0.9943 Validation Accuracy: 0.582400\n",
      "Epoch 16, CIFAR-10 Batch 3:  Loss:     0.8689 Validation Accuracy: 0.568200\n",
      "Epoch 16, CIFAR-10 Batch 4:  Loss:     1.0346 Validation Accuracy: 0.598000\n",
      "Epoch 16, CIFAR-10 Batch 5:  Loss:     1.0216 Validation Accuracy: 0.567600\n",
      "Epoch 17, CIFAR-10 Batch 1:  Loss:     0.9651 Validation Accuracy: 0.598000\n",
      "Epoch 17, CIFAR-10 Batch 2:  Loss:     0.9460 Validation Accuracy: 0.574200\n",
      "Epoch 17, CIFAR-10 Batch 3:  Loss:     0.8051 Validation Accuracy: 0.588200\n",
      "Epoch 17, CIFAR-10 Batch 4:  Loss:     0.9593 Validation Accuracy: 0.605800\n",
      "Epoch 17, CIFAR-10 Batch 5:  Loss:     0.9208 Validation Accuracy: 0.591400\n",
      "Epoch 18, CIFAR-10 Batch 1:  Loss:     0.9850 Validation Accuracy: 0.594000\n",
      "Epoch 18, CIFAR-10 Batch 2:  Loss:     0.9110 Validation Accuracy: 0.561800\n",
      "Epoch 18, CIFAR-10 Batch 3:  Loss:     0.8331 Validation Accuracy: 0.597600\n",
      "Epoch 18, CIFAR-10 Batch 4:  Loss:     0.9383 Validation Accuracy: 0.608000\n",
      "Epoch 18, CIFAR-10 Batch 5:  Loss:     0.9112 Validation Accuracy: 0.587000\n",
      "Epoch 19, CIFAR-10 Batch 1:  Loss:     0.9613 Validation Accuracy: 0.589400\n",
      "Epoch 19, CIFAR-10 Batch 2:  Loss:     0.8946 Validation Accuracy: 0.599200\n",
      "Epoch 19, CIFAR-10 Batch 3:  Loss:     0.8547 Validation Accuracy: 0.586000\n",
      "Epoch 19, CIFAR-10 Batch 4:  Loss:     0.9228 Validation Accuracy: 0.604400\n",
      "Epoch 19, CIFAR-10 Batch 5:  Loss:     0.8672 Validation Accuracy: 0.599400\n",
      "Epoch 20, CIFAR-10 Batch 1:  Loss:     0.9092 Validation Accuracy: 0.594000\n",
      "Epoch 20, CIFAR-10 Batch 2:  Loss:     0.8939 Validation Accuracy: 0.581600\n",
      "Epoch 20, CIFAR-10 Batch 3:  Loss:     0.8021 Validation Accuracy: 0.594800\n",
      "Epoch 20, CIFAR-10 Batch 4:  Loss:     0.8372 Validation Accuracy: 0.605000\n",
      "Epoch 20, CIFAR-10 Batch 5:  Loss:     0.8490 Validation Accuracy: 0.600800\n",
      "Epoch 21, CIFAR-10 Batch 1:  Loss:     0.8467 Validation Accuracy: 0.601400\n",
      "Epoch 21, CIFAR-10 Batch 2:  Loss:     0.8534 Validation Accuracy: 0.590000\n",
      "Epoch 21, CIFAR-10 Batch 3:  Loss:     0.6966 Validation Accuracy: 0.617200\n",
      "Epoch 21, CIFAR-10 Batch 4:  Loss:     0.8559 Validation Accuracy: 0.607800\n",
      "Epoch 21, CIFAR-10 Batch 5:  Loss:     0.8177 Validation Accuracy: 0.604800\n",
      "Epoch 22, CIFAR-10 Batch 1:  Loss:     0.8992 Validation Accuracy: 0.592200\n",
      "Epoch 22, CIFAR-10 Batch 2:  Loss:     0.8327 Validation Accuracy: 0.608400\n",
      "Epoch 22, CIFAR-10 Batch 3:  Loss:     0.7689 Validation Accuracy: 0.611200\n",
      "Epoch 22, CIFAR-10 Batch 4:  Loss:     0.8365 Validation Accuracy: 0.615000\n",
      "Epoch 22, CIFAR-10 Batch 5:  Loss:     0.7784 Validation Accuracy: 0.611000\n",
      "Epoch 23, CIFAR-10 Batch 1:  Loss:     0.7983 Validation Accuracy: 0.608400\n",
      "Epoch 23, CIFAR-10 Batch 2:  Loss:     0.7481 Validation Accuracy: 0.597400\n",
      "Epoch 23, CIFAR-10 Batch 3:  Loss:     0.7312 Validation Accuracy: 0.601600\n",
      "Epoch 23, CIFAR-10 Batch 4:  Loss:     0.8068 Validation Accuracy: 0.614800\n",
      "Epoch 23, CIFAR-10 Batch 5:  Loss:     0.7636 Validation Accuracy: 0.612000\n",
      "Epoch 24, CIFAR-10 Batch 1:  Loss:     0.8238 Validation Accuracy: 0.599200\n",
      "Epoch 24, CIFAR-10 Batch 2:  Loss:     0.7520 Validation Accuracy: 0.587600\n",
      "Epoch 24, CIFAR-10 Batch 3:  Loss:     0.6755 Validation Accuracy: 0.604200\n",
      "Epoch 24, CIFAR-10 Batch 4:  Loss:     0.8142 Validation Accuracy: 0.621800\n",
      "Epoch 24, CIFAR-10 Batch 5:  Loss:     0.7733 Validation Accuracy: 0.603400\n",
      "Epoch 25, CIFAR-10 Batch 1:  Loss:     0.8724 Validation Accuracy: 0.601200\n",
      "Epoch 25, CIFAR-10 Batch 2:  Loss:     0.7261 Validation Accuracy: 0.610600\n",
      "Epoch 25, CIFAR-10 Batch 3:  Loss:     0.6434 Validation Accuracy: 0.620600\n",
      "Epoch 25, CIFAR-10 Batch 4:  Loss:     0.7579 Validation Accuracy: 0.611200\n",
      "Epoch 25, CIFAR-10 Batch 5:  Loss:     0.7083 Validation Accuracy: 0.618400\n",
      "Epoch 26, CIFAR-10 Batch 1:  Loss:     0.8478 Validation Accuracy: 0.595200\n",
      "Epoch 26, CIFAR-10 Batch 2:  Loss:     0.7468 Validation Accuracy: 0.613200\n",
      "Epoch 26, CIFAR-10 Batch 3:  Loss:     0.6300 Validation Accuracy: 0.623400\n",
      "Epoch 26, CIFAR-10 Batch 4:  Loss:     0.7304 Validation Accuracy: 0.618200\n",
      "Epoch 26, CIFAR-10 Batch 5:  Loss:     0.7233 Validation Accuracy: 0.614200\n",
      "Epoch 27, CIFAR-10 Batch 1:  Loss:     0.7806 Validation Accuracy: 0.604000\n",
      "Epoch 27, CIFAR-10 Batch 2:  Loss:     0.7402 Validation Accuracy: 0.611000\n",
      "Epoch 27, CIFAR-10 Batch 3:  Loss:     0.6218 Validation Accuracy: 0.612000\n",
      "Epoch 27, CIFAR-10 Batch 4:  Loss:     0.7200 Validation Accuracy: 0.623400\n",
      "Epoch 27, CIFAR-10 Batch 5:  Loss:     0.7540 Validation Accuracy: 0.612600\n",
      "Epoch 28, CIFAR-10 Batch 1:  Loss:     0.7538 Validation Accuracy: 0.605200\n",
      "Epoch 28, CIFAR-10 Batch 2:  Loss:     0.7381 Validation Accuracy: 0.619000\n",
      "Epoch 28, CIFAR-10 Batch 3:  Loss:     0.5804 Validation Accuracy: 0.611000\n",
      "Epoch 28, CIFAR-10 Batch 4:  Loss:     0.7378 Validation Accuracy: 0.619000\n",
      "Epoch 28, CIFAR-10 Batch 5:  Loss:     0.6472 Validation Accuracy: 0.619000\n",
      "Epoch 29, CIFAR-10 Batch 1:  Loss:     0.7652 Validation Accuracy: 0.615600\n",
      "Epoch 29, CIFAR-10 Batch 2:  Loss:     0.7088 Validation Accuracy: 0.602800\n",
      "Epoch 29, CIFAR-10 Batch 3:  Loss:     0.5224 Validation Accuracy: 0.618400\n",
      "Epoch 29, CIFAR-10 Batch 4:  Loss:     0.7056 Validation Accuracy: 0.618800\n",
      "Epoch 29, CIFAR-10 Batch 5:  Loss:     0.6716 Validation Accuracy: 0.612200\n",
      "Epoch 30, CIFAR-10 Batch 1:  Loss:     0.7543 Validation Accuracy: 0.623600\n",
      "Epoch 30, CIFAR-10 Batch 2:  Loss:     0.6596 Validation Accuracy: 0.613000\n",
      "Epoch 30, CIFAR-10 Batch 3:  Loss:     0.5359 Validation Accuracy: 0.613800\n",
      "Epoch 30, CIFAR-10 Batch 4:  Loss:     0.6864 Validation Accuracy: 0.619200\n",
      "Epoch 30, CIFAR-10 Batch 5:  Loss:     0.7124 Validation Accuracy: 0.623000\n",
      "Epoch 31, CIFAR-10 Batch 1:  Loss:     0.6983 Validation Accuracy: 0.621200\n",
      "Epoch 31, CIFAR-10 Batch 2:  Loss:     0.7006 Validation Accuracy: 0.617000\n",
      "Epoch 31, CIFAR-10 Batch 3:  Loss:     0.5684 Validation Accuracy: 0.630400\n",
      "Epoch 31, CIFAR-10 Batch 4:  Loss:     0.6976 Validation Accuracy: 0.614600\n",
      "Epoch 31, CIFAR-10 Batch 5:  Loss:     0.6273 Validation Accuracy: 0.617600\n",
      "Epoch 32, CIFAR-10 Batch 1:  Loss:     0.6795 Validation Accuracy: 0.625400\n",
      "Epoch 32, CIFAR-10 Batch 2:  Loss:     0.6983 Validation Accuracy: 0.626600\n",
      "Epoch 32, CIFAR-10 Batch 3:  Loss:     0.5427 Validation Accuracy: 0.628000\n",
      "Epoch 32, CIFAR-10 Batch 4:  Loss:     0.6575 Validation Accuracy: 0.627800\n",
      "Epoch 32, CIFAR-10 Batch 5:  Loss:     0.6400 Validation Accuracy: 0.618000\n",
      "Epoch 33, CIFAR-10 Batch 1:  Loss:     0.6649 Validation Accuracy: 0.628600\n",
      "Epoch 33, CIFAR-10 Batch 2:  Loss:     0.6549 Validation Accuracy: 0.622400\n",
      "Epoch 33, CIFAR-10 Batch 3:  Loss:     0.5673 Validation Accuracy: 0.623200\n",
      "Epoch 33, CIFAR-10 Batch 4:  Loss:     0.6306 Validation Accuracy: 0.631000\n",
      "Epoch 33, CIFAR-10 Batch 5:  Loss:     0.6469 Validation Accuracy: 0.621800\n",
      "Epoch 34, CIFAR-10 Batch 1:  Loss:     0.6813 Validation Accuracy: 0.619000\n",
      "Epoch 34, CIFAR-10 Batch 2:  Loss:     0.6720 Validation Accuracy: 0.609800\n",
      "Epoch 34, CIFAR-10 Batch 3:  Loss:     0.5103 Validation Accuracy: 0.631400\n",
      "Epoch 34, CIFAR-10 Batch 4:  Loss:     0.6539 Validation Accuracy: 0.629000\n",
      "Epoch 34, CIFAR-10 Batch 5:  Loss:     0.5586 Validation Accuracy: 0.627000\n",
      "Epoch 35, CIFAR-10 Batch 1:  Loss:     0.6504 Validation Accuracy: 0.624200\n",
      "Epoch 35, CIFAR-10 Batch 2:  Loss:     0.6893 Validation Accuracy: 0.621000\n",
      "Epoch 35, CIFAR-10 Batch 3:  Loss:     0.5201 Validation Accuracy: 0.632000\n",
      "Epoch 35, CIFAR-10 Batch 4:  Loss:     0.6670 Validation Accuracy: 0.625600\n",
      "Epoch 35, CIFAR-10 Batch 5:  Loss:     0.5639 Validation Accuracy: 0.625000\n",
      "Epoch 36, CIFAR-10 Batch 1:  Loss:     0.6241 Validation Accuracy: 0.627800\n",
      "Epoch 36, CIFAR-10 Batch 2:  Loss:     0.6891 Validation Accuracy: 0.627200\n",
      "Epoch 36, CIFAR-10 Batch 3:  Loss:     0.5132 Validation Accuracy: 0.627600\n",
      "Epoch 36, CIFAR-10 Batch 4:  Loss:     0.5797 Validation Accuracy: 0.626400\n",
      "Epoch 36, CIFAR-10 Batch 5:  Loss:     0.5498 Validation Accuracy: 0.622400\n",
      "Epoch 37, CIFAR-10 Batch 1:  Loss:     0.6201 Validation Accuracy: 0.621800\n",
      "Epoch 37, CIFAR-10 Batch 2:  Loss:     0.6367 Validation Accuracy: 0.621000\n",
      "Epoch 37, CIFAR-10 Batch 3:  Loss:     0.5273 Validation Accuracy: 0.628400\n",
      "Epoch 37, CIFAR-10 Batch 4:  Loss:     0.6134 Validation Accuracy: 0.618200\n",
      "Epoch 37, CIFAR-10 Batch 5:  Loss:     0.5855 Validation Accuracy: 0.609200\n",
      "Epoch 38, CIFAR-10 Batch 1:  Loss:     0.5934 Validation Accuracy: 0.622200\n",
      "Epoch 38, CIFAR-10 Batch 2:  Loss:     0.6102 Validation Accuracy: 0.630600\n",
      "Epoch 38, CIFAR-10 Batch 3:  Loss:     0.5113 Validation Accuracy: 0.635000\n",
      "Epoch 38, CIFAR-10 Batch 4:  Loss:     0.5953 Validation Accuracy: 0.621200\n",
      "Epoch 38, CIFAR-10 Batch 5:  Loss:     0.5376 Validation Accuracy: 0.622800\n",
      "Epoch 39, CIFAR-10 Batch 1:  Loss:     0.5659 Validation Accuracy: 0.630000\n",
      "Epoch 39, CIFAR-10 Batch 2:  Loss:     0.6561 Validation Accuracy: 0.605600\n",
      "Epoch 39, CIFAR-10 Batch 3:  Loss:     0.4911 Validation Accuracy: 0.630600\n",
      "Epoch 39, CIFAR-10 Batch 4:  Loss:     0.6220 Validation Accuracy: 0.616400\n",
      "Epoch 39, CIFAR-10 Batch 5:  Loss:     0.5246 Validation Accuracy: 0.622200\n",
      "Epoch 40, CIFAR-10 Batch 1:  Loss:     0.5423 Validation Accuracy: 0.633200\n",
      "Epoch 40, CIFAR-10 Batch 2:  Loss:     0.6779 Validation Accuracy: 0.627600\n",
      "Epoch 40, CIFAR-10 Batch 3:  Loss:     0.4714 Validation Accuracy: 0.629800\n",
      "Epoch 40, CIFAR-10 Batch 4:  Loss:     0.5782 Validation Accuracy: 0.628000\n",
      "Epoch 40, CIFAR-10 Batch 5:  Loss:     0.5405 Validation Accuracy: 0.639800\n",
      "Epoch 41, CIFAR-10 Batch 1:  Loss:     0.5542 Validation Accuracy: 0.635200\n",
      "Epoch 41, CIFAR-10 Batch 2:  Loss:     0.6218 Validation Accuracy: 0.625200\n",
      "Epoch 41, CIFAR-10 Batch 3:  Loss:     0.4772 Validation Accuracy: 0.634000\n",
      "Epoch 41, CIFAR-10 Batch 4:  Loss:     0.5360 Validation Accuracy: 0.630000\n",
      "Epoch 41, CIFAR-10 Batch 5:  Loss:     0.5379 Validation Accuracy: 0.630600\n",
      "Epoch 42, CIFAR-10 Batch 1:  Loss:     0.5492 Validation Accuracy: 0.621200\n",
      "Epoch 42, CIFAR-10 Batch 2:  Loss:     0.5589 Validation Accuracy: 0.623400\n",
      "Epoch 42, CIFAR-10 Batch 3:  Loss:     0.4376 Validation Accuracy: 0.637800\n",
      "Epoch 42, CIFAR-10 Batch 4:  Loss:     0.5917 Validation Accuracy: 0.624200\n",
      "Epoch 42, CIFAR-10 Batch 5:  Loss:     0.5589 Validation Accuracy: 0.620800\n",
      "Epoch 43, CIFAR-10 Batch 1:  Loss:     0.5178 Validation Accuracy: 0.637800\n",
      "Epoch 43, CIFAR-10 Batch 2:  Loss:     0.5740 Validation Accuracy: 0.626200\n",
      "Epoch 43, CIFAR-10 Batch 3:  Loss:     0.4211 Validation Accuracy: 0.638000\n",
      "Epoch 43, CIFAR-10 Batch 4:  Loss:     0.5704 Validation Accuracy: 0.629000\n",
      "Epoch 43, CIFAR-10 Batch 5:  Loss:     0.5054 Validation Accuracy: 0.620400\n",
      "Epoch 44, CIFAR-10 Batch 1:  Loss:     0.5371 Validation Accuracy: 0.624600\n",
      "Epoch 44, CIFAR-10 Batch 2:  Loss:     0.6210 Validation Accuracy: 0.631200\n",
      "Epoch 44, CIFAR-10 Batch 3:  Loss:     0.4203 Validation Accuracy: 0.639200\n",
      "Epoch 44, CIFAR-10 Batch 4:  Loss:     0.5154 Validation Accuracy: 0.631600\n",
      "Epoch 44, CIFAR-10 Batch 5:  Loss:     0.5180 Validation Accuracy: 0.629800\n",
      "Epoch 45, CIFAR-10 Batch 1:  Loss:     0.5168 Validation Accuracy: 0.628800\n",
      "Epoch 45, CIFAR-10 Batch 2:  Loss:     0.5899 Validation Accuracy: 0.632000\n",
      "Epoch 45, CIFAR-10 Batch 3:  Loss:     0.4290 Validation Accuracy: 0.637600\n",
      "Epoch 45, CIFAR-10 Batch 4:  Loss:     0.5679 Validation Accuracy: 0.633600\n",
      "Epoch 45, CIFAR-10 Batch 5:  Loss:     0.5029 Validation Accuracy: 0.628200\n",
      "Epoch 46, CIFAR-10 Batch 1:  Loss:     0.5366 Validation Accuracy: 0.630400\n",
      "Epoch 46, CIFAR-10 Batch 2:  Loss:     0.5596 Validation Accuracy: 0.625800\n",
      "Epoch 46, CIFAR-10 Batch 3:  Loss:     0.4186 Validation Accuracy: 0.635200\n",
      "Epoch 46, CIFAR-10 Batch 4:  Loss:     0.4866 Validation Accuracy: 0.635400\n",
      "Epoch 46, CIFAR-10 Batch 5:  Loss:     0.4743 Validation Accuracy: 0.624200\n",
      "Epoch 47, CIFAR-10 Batch 1:  Loss:     0.5290 Validation Accuracy: 0.623000\n",
      "Epoch 47, CIFAR-10 Batch 2:  Loss:     0.5742 Validation Accuracy: 0.637600\n",
      "Epoch 47, CIFAR-10 Batch 3:  Loss:     0.4250 Validation Accuracy: 0.635800\n",
      "Epoch 47, CIFAR-10 Batch 4:  Loss:     0.5435 Validation Accuracy: 0.628000\n",
      "Epoch 47, CIFAR-10 Batch 5:  Loss:     0.4693 Validation Accuracy: 0.631400\n",
      "Epoch 48, CIFAR-10 Batch 1:  Loss:     0.4728 Validation Accuracy: 0.625600\n",
      "Epoch 48, CIFAR-10 Batch 2:  Loss:     0.5828 Validation Accuracy: 0.624400\n",
      "Epoch 48, CIFAR-10 Batch 3:  Loss:     0.4251 Validation Accuracy: 0.640800\n",
      "Epoch 48, CIFAR-10 Batch 4:  Loss:     0.4603 Validation Accuracy: 0.630600\n",
      "Epoch 48, CIFAR-10 Batch 5:  Loss:     0.4248 Validation Accuracy: 0.623600\n",
      "Epoch 49, CIFAR-10 Batch 1:  Loss:     0.4713 Validation Accuracy: 0.632000\n",
      "Epoch 49, CIFAR-10 Batch 2:  Loss:     0.5452 Validation Accuracy: 0.634400\n",
      "Epoch 49, CIFAR-10 Batch 3:  Loss:     0.4066 Validation Accuracy: 0.644000\n",
      "Epoch 49, CIFAR-10 Batch 4:  Loss:     0.4780 Validation Accuracy: 0.638400\n",
      "Epoch 49, CIFAR-10 Batch 5:  Loss:     0.4427 Validation Accuracy: 0.626400\n",
      "Epoch 50, CIFAR-10 Batch 1:  Loss:     0.4734 Validation Accuracy: 0.636000\n",
      "Epoch 50, CIFAR-10 Batch 2:  Loss:     0.5975 Validation Accuracy: 0.637800\n",
      "Epoch 50, CIFAR-10 Batch 3:  Loss:     0.3677 Validation Accuracy: 0.647200\n",
      "Epoch 50, CIFAR-10 Batch 4:  Loss:     0.4559 Validation Accuracy: 0.637200\n",
      "Epoch 50, CIFAR-10 Batch 5:  Loss:     0.4318 Validation Accuracy: 0.635200\n"
     ]
    }
   ],
   "source": [
    "\"\"\"\n",
    "DON'T MODIFY ANYTHING IN THIS CELL\n",
    "\"\"\"\n",
    "save_model_path = './image_classification'\n",
    "\n",
    "print('Training...')\n",
    "with tf.Session() as sess:\n",
    "    # Initializing the variables\n",
    "    sess.run(tf.global_variables_initializer())\n",
    "    \n",
    "    # Training cycle\n",
    "    for epoch in range(epochs):\n",
    "        # Loop over all batches\n",
    "        n_batches = 5\n",
    "        for batch_i in range(1, n_batches + 1):\n",
    "            for batch_features, batch_labels in helper.load_preprocess_training_batch(batch_i, batch_size):\n",
    "                train_neural_network(sess, optimizer, keep_probability, batch_features, batch_labels)\n",
    "            print('Epoch {:>2}, CIFAR-10 Batch {}:  '.format(epoch + 1, batch_i), end='')\n",
    "            print_stats(sess, batch_features, batch_labels, cost, accuracy)\n",
    "            \n",
    "    # Save Model\n",
    "    saver = tf.train.Saver()\n",
    "    save_path = saver.save(sess, save_model_path)"
   ]
  },
  {
   "cell_type": "markdown",
   "metadata": {
    "deletable": true,
    "editable": true
   },
   "source": [
    "# Checkpoint\n",
    "The model has been saved to disk.\n",
    "## Test Model\n",
    "Test your model against the test dataset.  This will be your final accuracy. You should have an accuracy greater than 50%. If you don't, keep tweaking the model architecture and parameters."
   ]
  },
  {
   "cell_type": "code",
   "execution_count": 39,
   "metadata": {
    "collapsed": false,
    "deletable": true,
    "editable": true
   },
   "outputs": [
    {
     "name": "stdout",
     "output_type": "stream",
     "text": [
      "Testing Accuracy: 0.6242088607594937\n",
      "\n"
     ]
    },
    {
     "data": {
      "image/png": "[encoded data removed]",
      "text/plain": [
       "<matplotlib.figure.Figure at 0x239b493aa58>"
      ]
     },
     "metadata": {
      "image/png": {
       "height": 319,
       "width": 355
      }
     },
     "output_type": "display_data"
    }
   ],
   "source": [
    "\"\"\"\n",
    "DON'T MODIFY ANYTHING IN THIS CELL\n",
    "\"\"\"\n",
    "%matplotlib inline\n",
    "%config InlineBackend.figure_format = 'retina'\n",
    "\n",
    "import tensorflow as tf\n",
    "import pickle\n",
    "import helper\n",
    "import random\n",
    "\n",
    "# Set batch size if not already set\n",
    "try:\n",
    "    if batch_size:\n",
    "        pass\n",
    "except NameError:\n",
    "    batch_size = 64\n",
    "\n",
    "save_model_path = './image_classification'\n",
    "n_samples = 4\n",
    "top_n_predictions = 3\n",
    "\n",
    "def test_model():\n",
    "    \"\"\"\n",
    "    Test the saved model against the test dataset\n",
    "    \"\"\"\n",
    "\n",
    "    test_features, test_labels = pickle.load(open('preprocess_training.p', mode='rb'))\n",
    "    loaded_graph = tf.Graph()\n",
    "\n",
    "    with tf.Session(graph=loaded_graph) as sess:\n",
    "        # Load model\n",
    "        loader = tf.train.import_meta_graph(save_model_path + '.meta')\n",
    "        loader.restore(sess, save_model_path)\n",
    "\n",
    "        # Get Tensors from loaded model\n",
    "        loaded_x = loaded_graph.get_tensor_by_name('x:0')\n",
    "        loaded_y = loaded_graph.get_tensor_by_name('y:0')\n",
    "        loaded_keep_prob = loaded_graph.get_tensor_by_name('keep_prob:0')\n",
    "        loaded_logits = loaded_graph.get_tensor_by_name('logits:0')\n",
    "        loaded_acc = loaded_graph.get_tensor_by_name('accuracy:0')\n",
    "        \n",
    "        # Get accuracy in batches for memory limitations\n",
    "        test_batch_acc_total = 0\n",
    "        test_batch_count = 0\n",
    "        \n",
    "        for train_feature_batch, train_label_batch in helper.batch_features_labels(test_features, test_labels, batch_size):\n",
    "            test_batch_acc_total += sess.run(\n",
    "                loaded_acc,\n",
    "                feed_dict={loaded_x: train_feature_batch, loaded_y: train_label_batch, loaded_keep_prob: 1.0})\n",
    "            test_batch_count += 1\n",
    "\n",
    "        print('Testing Accuracy: {}\\n'.format(test_batch_acc_total/test_batch_count))\n",
    "\n",
    "        # Print Random Samples\n",
    "        random_test_features, random_test_labels = tuple(zip(*random.sample(list(zip(test_features, test_labels)), n_samples)))\n",
    "        random_test_predictions = sess.run(\n",
    "            tf.nn.top_k(tf.nn.softmax(loaded_logits), top_n_predictions),\n",
    "            feed_dict={loaded_x: random_test_features, loaded_y: random_test_labels, loaded_keep_prob: 1.0})\n",
    "        helper.display_image_predictions(random_test_features, random_test_labels, random_test_predictions)\n",
    "\n",
    "\n",
    "test_model()"
   ]
  },
  {
   "cell_type": "markdown",
   "metadata": {
    "deletable": true,
    "editable": true
   },
   "source": [
    "## Why 50-80% Accuracy?\n",
    "You might be wondering why you can't get an accuracy any higher. First things first, 50% isn't bad for a simple CNN.  Pure guessing would get you 10% accuracy. However, you might notice people are getting scores [well above 80%](http://rodrigob.github.io/are_we_there_yet/build/classification_datasets_results.html#43494641522d3130).  That's because we haven't taught you all there is to know about neural networks. We still need to cover a few more techniques.\n",
    "## Submitting This Project\n",
    "When submitting this project, make sure to run all the cells before saving the notebook.  Save the notebook file as \"dlnd_image_classification.ipynb\" and save it as a HTML file under \"File\" -> \"Download as\".  Include the \"helper.py\" and \"problem_unittests.py\" files in your submission."
   ]
  }
 ],
 "metadata": {
  "kernelspec": {
   "display_name": "Python [default]",
   "language": "python",
   "name": "python3"
  },
  "language_info": {
   "codemirror_mode": {
    "name": "ipython",
    "version": 3
   },
   "file_extension": ".py",
   "mimetype": "text/x-python",
   "name": "python",
   "nbconvert_exporter": "python",
   "pygments_lexer": "ipython3",
   "version": "3.5.2"
  }
 },
 "nbformat": 4,
 "nbformat_minor": 0
}
